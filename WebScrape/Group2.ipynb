{
 "cells": [
  {
   "cell_type": "markdown",
   "metadata": {},
   "source": [
    "## Leistungsnachweis Gruppenarbeit\n",
    "### Gruppe 2 Dimitri Murri, Lukas Barth und Oliver Müller\n",
    "murridim@students.zhaw.ch, barthluk@students.zhaw.ch, muellol7@students.zhaw.ch"
   ]
  },
  {
   "cell_type": "markdown",
   "metadata": {},
   "source": [
    "### Inhaltsverzeichnis"
   ]
  },
  {
   "cell_type": "markdown",
   "metadata": {},
   "source": [
    "### Objective\n",
    "TEXT TBD"
   ]
  },
  {
   "cell_type": "code",
   "execution_count": 12,
   "metadata": {},
   "outputs": [],
   "source": [
    "import requests\n",
    "import os\n",
    "import shutil\n",
    "import pandas as pd\n",
    "import warnings\n",
    "warnings.simplefilter(action='ignore', category=FutureWarning)\n",
    "warnings.filterwarnings('ignore', category=DeprecationWarning)\n",
    "\n",
    "import time\n",
    "import pymysql\n",
    "import matplotlib.pyplot as plt\n",
    "import seaborn as sns\n",
    "import statsmodels.api as sm\n",
    "import numpy as np\n",
    "\n",
    "from nba_api.stats.endpoints import playercareerstats\n",
    "from nba_api.stats.static import players\n",
    "from nba_api.stats.endpoints import playergamelog\n",
    "from selenium import webdriver\n",
    "from selenium.webdriver.common.keys import Keys\n",
    "from bs4 import BeautifulSoup\n",
    "\n",
    "#!pip install mysql-connector-python"
   ]
  },
  {
   "cell_type": "markdown",
   "metadata": {},
   "source": [
    "#### (1) Datenerhebung mittels Web Scraping UND Web API (muss Teil des Python Codes sein, einfache File-Downloads zählen nicht)"
   ]
  },
  {
   "cell_type": "markdown",
   "metadata": {},
   "source": [
    "Datenerhebung mittels Web Scraping"
   ]
  },
  {
   "cell_type": "code",
   "execution_count": null,
   "metadata": {},
   "outputs": [],
   "source": [
    "years = list(range(1990,2023))\n",
    "\n",
    "# scrape the data, can be only run a few times a day before getting blocked\n",
    "#'''\n",
    "url_start = \"https://www.basketball-reference.com/awards/awards_{}.html\"\n",
    "\n",
    "for year in years:\n",
    "    url = url_start.format(year)\n",
    "    \n",
    "    data = requests.get(url)\n",
    "    \n",
    "    with open(\"mvp/{}.html\".format(year), \"w+\") as f:\n",
    "        f.write(data.text)\n",
    "#'''"
   ]
  },
  {
   "cell_type": "markdown",
   "metadata": {},
   "source": [
    "Datenerhebung mittels Web API"
   ]
  }
 ],
 "metadata": {
  "kernelspec": {
   "display_name": "AppliedDataScience",
   "language": "python",
   "name": "python3"
  },
  "language_info": {
   "codemirror_mode": {
    "name": "ipython",
    "version": 3
   },
   "file_extension": ".py",
   "mimetype": "text/x-python",
   "name": "python",
   "nbconvert_exporter": "python",
   "pygments_lexer": "ipython3",
   "version": "3.12.1"
  }
 },
 "nbformat": 4,
 "nbformat_minor": 2
}
